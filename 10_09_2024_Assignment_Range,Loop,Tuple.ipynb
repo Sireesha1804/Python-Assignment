{
  "nbformat": 4,
  "nbformat_minor": 0,
  "metadata": {
    "colab": {
      "provenance": []
    },
    "kernelspec": {
      "name": "python3",
      "display_name": "Python 3"
    },
    "language_info": {
      "name": "python"
    }
  },
  "cells": [
    {
      "cell_type": "markdown",
      "source": [
        "1.Write a python program to print all numbers in a range divisible by a given number"
      ],
      "metadata": {
        "id": "NSkcG4rISTsj"
      }
    },
    {
      "cell_type": "code",
      "execution_count": 2,
      "metadata": {
        "colab": {
          "base_uri": "https://localhost:8080/"
        },
        "id": "VfJiNctkRYp_",
        "outputId": "cb102de6-822e-4fcf-f0be-dfcc32141b4a"
      },
      "outputs": [
        {
          "output_type": "stream",
          "name": "stdout",
          "text": [
            "52\n",
            "64\n",
            "56\n",
            "64\n",
            "76\n",
            "92\n",
            "52\n",
            "72\n"
          ]
        }
      ],
      "source": [
        "list3=(23,34,52,64,86,89,98,86,81,26,38,94,56,78,64,65,76,79,92,38,51,52,54,72,)\n",
        "count=0\n",
        "for i in list3:\n",
        "  if i%4==0:\n",
        "    print(i)\n"
      ]
    }
  ]
}